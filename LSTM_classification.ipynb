{
  "cells": [
    {
      "cell_type": "code",
      "execution_count": 4,
      "metadata": {
        "id": "X7dQQkAzB-Bc"
      },
      "outputs": [],
      "source": [
        "import math\n",
        "import numpy as np\n",
        "\n",
        "import matplotlib.pyplot as plt\n",
        "import pandas as pd\n",
        "from pandas import DataFrame\n",
        "from pandas import concat\n",
        "from sklearn.preprocessing import LabelEncoder\n",
        "from sklearn.preprocessing import MinMaxScaler\n",
        "\n"
      ]
    },
    {
      "cell_type": "code",
      "execution_count": 3,
      "metadata": {
        "id": "jp7H13EgCIuI"
      },
      "outputs": [],
      "source": [
        "# Convert series to supervised learning\n",
        "def series_to_supervised(data, n_in=5, n_out=1, dropnan=True):\n",
        "    n_vars = 1 if type(data) is list else data.shape[1]\n",
        "    df = DataFrame(data)\n",
        "    cols, names = list(), list()\n",
        "    # input sequence (t-n, ... t-1)\n",
        "    for i in range(n_in, 0, -1):\n",
        "        cols.append(df.shift(i))\n",
        "        names += [('var%d(t-%d)' % (j+1, i)) for j in range(n_vars)]\n",
        "    # forecast sequence (t, t+1, ... t+n)\n",
        "    for i in range(0, n_out):\n",
        "        cols.append(df.shift(-i))\n",
        "        if i == 0:\n",
        "            names += [('var%d(t)' % (j+1)) for j in range(n_vars)]\n",
        "        else:\n",
        "            names += [('var%d(t+%d)' % (j+1, i)) for j in range(n_vars)]\n",
        "    # put it all together\n",
        "    agg = concat(cols, axis=1)\n",
        "    agg.columns = names\n",
        "    # drop rows with NaN values\n",
        "    if dropnan:\n",
        "        agg.dropna(inplace=True)\n",
        "    return agg\n"
      ]
    },
    {
      "cell_type": "code",
      "execution_count": 5,
      "metadata": {
        "id": "6ObheKDsCKf1"
      },
      "outputs": [
        {
          "name": "stdout",
          "output_type": "stream",
          "text": [
            "    var1(t-7)  var2(t-7)  var3(t-7)  var4(t-7)  var5(t-7)  var6(t-7)  \\\n",
            "7    0.473464   0.399862   0.572502   0.505595   0.000000   0.270387   \n",
            "8    0.480391   0.473464   0.399862   0.572502   0.136755   0.319360   \n",
            "9    0.495793   0.480391   0.473464   0.399862   0.231230   0.370372   \n",
            "10   0.591920   0.495793   0.480391   0.473464   0.112204   0.480676   \n",
            "11   0.504141   0.591920   0.495793   0.480391   0.091429   0.333697   \n",
            "\n",
            "    var7(t-7)  var8(t-7)  var9(t-7)  var10(t-7)  ...  var20(t+1)  var21(t+1)  \\\n",
            "7    0.251201   0.260576   0.349954    0.000000  ...    0.030320    0.292107   \n",
            "8    0.301592   0.224096   0.307113    0.000000  ...    0.029384    0.336335   \n",
            "9    0.339905   0.276756   0.277163    0.136755  ...    0.029384    0.353590   \n",
            "10   0.429497   0.365488   0.375592    0.231230  ...    0.028448    0.261199   \n",
            "11   0.430604   0.380006   0.392274    0.112204  ...    0.025753    0.287804   \n",
            "\n",
            "    var22(t+1)  var23(t+1)  var24(t+1)  var25(t+1)  var26(t+1)  var27(t+1)  \\\n",
            "7     0.025344    0.022252    0.024295    0.872564    0.965517    0.034483   \n",
            "8     0.024254    0.021233    0.023219    0.860566    0.913793    0.086207   \n",
            "9     0.023295    0.020444    0.022494    0.849425    0.844828    0.155172   \n",
            "10    0.022255    0.019181    0.021425    0.858321    0.930556    0.069444   \n",
            "11    0.021280    0.018048    0.020275    0.866581    0.890909    0.109091   \n",
            "\n",
            "    var28(t+1)  var29(t+1)  \n",
            "7     0.133503         0.0  \n",
            "8     0.121302         1.0  \n",
            "9     0.096886         1.0  \n",
            "10    0.095494         0.0  \n",
            "11    0.093455         1.0  \n",
            "\n",
            "[5 rows x 261 columns]\n"
          ]
        }
      ],
      "source": [
        "# Load dataset\n",
        "dataset = pd.read_csv('technical_indicators/BHP/Trend/BHPTrend.csv', header=0, index_col=0)\n",
        "\n",
        "values = dataset.values\n",
        "values = values.astype('float32')\n",
        "# Normalize features\n",
        "scaler = MinMaxScaler(feature_range=(0, 1))\n",
        "scaled = scaler.fit_transform(values)\n",
        "# Frame as supervised learning\n",
        "reframed = series_to_supervised(scaled, 7, 2)\n",
        "print(reframed.head())\n"
      ]
    },
    {
      "cell_type": "code",
      "execution_count": 19,
      "metadata": {
        "id": "G4p4W2f8CMEN"
      },
      "outputs": [
        {
          "name": "stdout",
          "output_type": "stream",
          "text": [
            "(4199, 1, 260) (4199,) (1047, 1, 260) (1047,)\n"
          ]
        }
      ],
      "source": [
        "# Split into train and test sets\n",
        "values = reframed.values\n",
        "train = values[:4199, :]\n",
        "test = values[4200:, :]\n",
        "# Split into input and outputs\n",
        "train_X, train_y = train[:, :-1], train[:, -1]\n",
        "test_X, test_y = test[:, :-1], test[:, -1]\n",
        "# Reshape input to be 3D [samples, timesteps, features]\n",
        "train_X = train_X.reshape((train_X.shape[0], 1, train_X.shape[1]))\n",
        "test_X = test_X.reshape((test_X.shape[0], 1, test_X.shape[1]))\n",
        "print(train_X.shape, train_y.shape, test_X.shape, test_y.shape)\n",
        "# We reshaped the input into the 3D format as expected by LSTMs, namely [samples, timesteps, features].\n"
      ]
    },
    {
      "cell_type": "code",
      "execution_count": null,
      "metadata": {
        "id": "twYz2k0TCR9B"
      },
      "outputs": [
        {
          "name": "stdout",
          "output_type": "stream",
          "text": [
            "Epoch [10/50], Loss: 0.6942\n",
            "Epoch [20/50], Loss: 0.6920\n",
            "Epoch [30/50], Loss: 0.6909\n",
            "Epoch [40/50], Loss: 0.6839\n",
            "Epoch [50/50], Loss: 0.6654\n"
          ]
        }
      ],
      "source": [
        "import torch\n",
        "import torch.nn as nn\n",
        "import torch.optim as optim\n",
        "\n",
        "# Define the LSTM Model in PyTorch\n",
        "class LSTMModel(nn.Module):\n",
        "    def __init__(self, input_dim, hidden_dim1=64, hidden_dim2=32, output_dim=1, dropout=0.3):\n",
        "        super(LSTMModel, self).__init__()\n",
        "        \n",
        "        # LSTM Layers\n",
        "        self.lstm1 = nn.LSTM(input_dim, hidden_dim1, batch_first=True)\n",
        "        self.dropout1 = nn.Dropout(0.2)\n",
        "\n",
        "        self.lstm2 = nn.LSTM(hidden_dim1, hidden_dim2, batch_first=True)\n",
        "        self.dropout2 = nn.Dropout(dropout)\n",
        "\n",
        "        self.lstm3 = nn.LSTM(hidden_dim2, hidden_dim2, batch_first=True)\n",
        "        self.dropout3 = nn.Dropout(dropout)\n",
        "\n",
        "        # Fully Connected Layer\n",
        "        self.fc = nn.Linear(hidden_dim2, output_dim)\n",
        "        self.activation = nn.Sigmoid()  # Sigmoid activation for binary classification\n",
        "\n",
        "    def forward(self, x):\n",
        "        x, _ = self.lstm1(x)\n",
        "        x = self.dropout1(x)\n",
        "        \n",
        "        x, _ = self.lstm2(x)\n",
        "        x = self.dropout2(x)\n",
        "        \n",
        "        x, _ = self.lstm3(x)\n",
        "        x = self.dropout3(x)\n",
        "        \n",
        "        x = self.fc(x[:, -1, :])  # Get last time-step output\n",
        "        x = self.activation(x)\n",
        "        \n",
        "        return x\n",
        "\n",
        "# Define Model Hyperparameters\n",
        "input_dim = train_X.shape[2]  # Number of features per time step\n",
        "hidden_dim1 = 64\n",
        "hidden_dim2 = 32\n",
        "output_dim = 1  # Binary classification output\n",
        "dropout = 0.3\n",
        "\n",
        "# Initialize model\n",
        "model = LSTMModel(input_dim, hidden_dim1, hidden_dim2, output_dim, dropout)\n",
        "\n",
        "# Define Loss Function & Optimizer\n",
        "criterion = nn.BCELoss()  # Binary Cross-Entropy Loss\n",
        "optimizer = optim.Adam(model.parameters(), lr=0.001)\n",
        "\n",
        "# Move model to GPU if available\n",
        "device = torch.device(\"cuda\" if torch.cuda.is_available() else \"cpu\")\n",
        "model.to(device)\n"
      ]
    },
    {
      "cell_type": "code",
      "execution_count": 14,
      "metadata": {
        "id": "cbHJ4czECTlb"
      },
      "outputs": [
        {
          "name": "stdout",
          "output_type": "stream",
          "text": [
            "Epoch [50/500], Train Loss: 0.3626, Val Loss: 0.3415\n",
            "Epoch [100/500], Train Loss: 0.2237, Val Loss: 0.2170\n",
            "Epoch [150/500], Train Loss: 0.1745, Val Loss: 0.1458\n",
            "Epoch [200/500], Train Loss: 0.1442, Val Loss: 0.1309\n",
            "Epoch [250/500], Train Loss: 0.1331, Val Loss: 0.1455\n",
            "Epoch [300/500], Train Loss: 0.1412, Val Loss: 0.1151\n",
            "Epoch [350/500], Train Loss: 0.1208, Val Loss: 0.1373\n",
            "Epoch [400/500], Train Loss: 0.1154, Val Loss: 0.1334\n",
            "Epoch [450/500], Train Loss: 0.1059, Val Loss: 0.1063\n",
            "Epoch [500/500], Train Loss: 0.0975, Val Loss: 0.1111\n"
          ]
        },
        {
          "data": {
            "image/png": "[encoded data removed]",
            "text/plain": [
              "<Figure size 1000x600 with 1 Axes>"
            ]
          },
          "metadata": {},
          "output_type": "display_data"
        }
      ],
      "source": [
        "train_X_tensor = torch.tensor(train_X, dtype=torch.float32).to(device)\n",
        "train_y_tensor = torch.tensor(train_y, dtype=torch.float32).unsqueeze(1).to(device)  # Ensure shape is (batch_size, 1)\n",
        "test_X_tensor = torch.tensor(test_X, dtype=torch.float32).to(device)\n",
        "test_y_tensor = torch.tensor(test_y, dtype=torch.float32).unsqueeze(1).to(device)\n",
        "\n",
        "# Training parameters\n",
        "epochs = 500\n",
        "batch_size = 80\n",
        "train_losses = []\n",
        "val_losses = []\n",
        "\n",
        "# Training Loop\n",
        "for epoch in range(epochs):\n",
        "    model.train()  # Set model to training mode\n",
        "    optimizer.zero_grad()\n",
        "\n",
        "    # Forward pass\n",
        "    outputs = model(train_X_tensor)\n",
        "    loss = criterion(outputs, train_y_tensor)\n",
        "\n",
        "    # Backward pass\n",
        "    loss.backward()\n",
        "    optimizer.step()\n",
        "\n",
        "    # Validation\n",
        "    model.eval()\n",
        "    with torch.no_grad():\n",
        "        val_outputs = model(test_X_tensor)\n",
        "        val_loss = criterion(val_outputs, test_y_tensor)\n",
        "\n",
        "    # Store loss values\n",
        "    train_losses.append(loss.item())\n",
        "    val_losses.append(val_loss.item())\n",
        "\n",
        "    # Print progress every 50 epochs\n",
        "    if (epoch + 1) % 50 == 0:\n",
        "        print(f\"Epoch [{epoch+1}/{epochs}], Train Loss: {loss.item():.4f}, Val Loss: {val_loss.item():.4f}\")\n",
        "\n",
        "# Plot Training & Validation Loss\n",
        "plt.figure(figsize=(10, 6))\n",
        "plt.plot(train_losses, label='Train Loss')\n",
        "plt.plot(val_losses, label='Validation Loss')\n",
        "plt.title(\"Model Loss\")\n",
        "plt.ylabel(\"Loss\")\n",
        "plt.xlabel(\"Epoch\")\n",
        "plt.legend()\n",
        "plt.show()\n"
      ]
    },
    {
      "cell_type": "code",
      "execution_count": 15,
      "metadata": {
        "id": "PhKPa8FlCVc3"
      },
      "outputs": [
        {
          "name": "stdout",
          "output_type": "stream",
          "text": [
            "Predicted Probabilities:\n",
            " [[0.011897  ]\n",
            " [0.00259186]\n",
            " [0.9516218 ]\n",
            " [0.002788  ]\n",
            " [0.9988582 ]\n",
            " [0.9978829 ]\n",
            " [0.997617  ]\n",
            " [0.9525337 ]\n",
            " [0.00257439]\n",
            " [0.9633812 ]]\n",
            "Predicted Classes:\n",
            " [[0]\n",
            " [0]\n",
            " [1]\n",
            " [0]\n",
            " [1]\n",
            " [1]\n",
            " [1]\n",
            " [1]\n",
            " [0]\n",
            " [1]]\n"
          ]
        }
      ],
      "source": [
        "model.eval()\n",
        "\n",
        "# Convert test data to PyTorch tensor and move to device\n",
        "test_X_tensor = torch.tensor(test_X, dtype=torch.float32).to(device)\n",
        "\n",
        "# Generate Predictions\n",
        "with torch.no_grad():\n",
        "    yhat_probs = model(test_X_tensor)  # Probability predictions\n",
        "\n",
        "# Convert probabilities to NumPy\n",
        "yhat_probs = yhat_probs.cpu().numpy()\n",
        "\n",
        "# Convert probabilities to class labels (0 or 1)\n",
        "yhat_classes = (yhat_probs > 0.5).astype(int)\n",
        "\n",
        "# Print predictions\n",
        "print(\"Predicted Probabilities:\\n\", yhat_probs[:10])  # Show first 10 predictions\n",
        "print(\"Predicted Classes:\\n\", yhat_classes[:10])  # Show first 10 class labels\n",
        "\n"
      ]
    },
    {
      "cell_type": "code",
      "execution_count": null,
      "metadata": {
        "id": "8LNvl8ydCZkv"
      },
      "outputs": [
        {
          "name": "stdout",
          "output_type": "stream",
          "text": [
            "Accuracy: 0.953200\n",
            "Precision: 0.977358\n",
            "Recall: 0.933333\n",
            "F1 score: 0.954839\n",
            "Cohens kappa: 0.906329\n",
            "ROC AUC: 0.993071\n",
            "[[480  12]\n",
            " [ 37 518]]\n"
          ]
        }
      ],
      "source": [
        "# Evaluate the model\n",
        "from sklearn.datasets import make_circles\n",
        "from sklearn.metrics import accuracy_score\n",
        "from sklearn.metrics import precision_score\n",
        "from sklearn.metrics import recall_score\n",
        "from sklearn.metrics import f1_score\n",
        "from sklearn.metrics import cohen_kappa_score\n",
        "from sklearn.metrics import roc_auc_score\n",
        "from sklearn.metrics import confusion_matrix\n",
        "\n",
        "# Accuracy: (tp + tn) / (p + n)\n",
        "accuracy = accuracy_score(test_y, yhat_classes)\n",
        "print('Accuracy: %f' % accuracy)\n",
        "# Precision tp / (tp + fp)\n",
        "precision = precision_score(test_y, yhat_classes)\n",
        "print('Precision: %f' % precision)\n",
        "# Recall: tp / (tp + fn)\n",
        "recall = recall_score(test_y, yhat_classes)\n",
        "print('Recall: %f' % recall)\n",
        "# F1: 2 tp / (2 tp + fp + fn)\n",
        "f1 = f1_score(test_y, yhat_classes)\n",
        "print('F1 score: %f' % f1)\n",
        "# Kappa\n",
        "kappa = cohen_kappa_score(test_y, yhat_classes)\n",
        "print('Cohens kappa: %f' % kappa)\n",
        "# ROC AUC\n",
        "auc = roc_auc_score(test_y, yhat_probs)\n",
        "print('ROC AUC: %f' % auc)\n",
        "# Confusion matrix\n",
        "matrix = confusion_matrix(test_y, yhat_classes)\n",
        "print(matrix)\n"
      ]
    },
    {
      "cell_type": "code",
      "execution_count": 21,
      "metadata": {
        "id": "Uj7JM1hLCbLN"
      },
      "outputs": [
        {
          "name": "stdout",
          "output_type": "stream",
          "text": [
            "(20, 1, 260)\n",
            "[ 0.1676598   0.16726722  0.16640277  0.16705403 -0.17999017  0.1594612\n",
            " -0.11345205  0.16715115 -0.07303254 -0.18675698  0.16724117  0.10739543\n",
            "  0.16481945 -0.18412994 -0.13234456 -0.18701662  0.16713841 -0.18574476\n",
            "  0.1286877   0.16549698]\n"
          ]
        }
      ],
      "source": [
        "# Generate future predictions\n",
        "n_future = 20\n",
        "a = values[-n_future:,:-1]\n",
        "a = a.reshape(a.shape[0], 1, -1)\n",
        "print(a.shape)\n",
        "a_tensor = torch.tensor(a, dtype=torch.float32).to(device)\n",
        "\n",
        "with torch.no_grad():\n",
        "    forecast = model(a_tensor)\n",
        "\n",
        "forecast = forecast.cpu().numpy()\n",
        "forecast = np.asarray(forecast)\n",
        "\n",
        "forecast_classes = (forecast > 0.5).astype(int)\n",
        "a = a.reshape((a.shape[0], a.shape[2]))\n",
        "inv_forecast = np.concatenate((forecast, a[:, -28:]), axis=1)  # Adjust based on your feature count\n",
        "inv_forecast = scaler.inverse_transform(inv_forecast)\n",
        "inv_forecast = inv_forecast[:, 0]\n",
        "print(inv_forecast)\n"
      ]
    },
    {
      "cell_type": "code",
      "execution_count": 25,
      "metadata": {},
      "outputs": [
        {
          "name": "stdout",
          "output_type": "stream",
          "text": [
            "[0. 0. 1. ... 0. 1. 1.]\n"
          ]
        }
      ],
      "source": [
        "print(test_y)"
      ]
    }
  ],
  "metadata": {
    "colab": {
      "provenance": []
    },
    "kernelspec": {
      "display_name": "bigdml",
      "language": "python",
      "name": "python3"
    },
    "language_info": {
      "codemirror_mode": {
        "name": "ipython",
        "version": 3
      },
      "file_extension": ".py",
      "mimetype": "text/x-python",
      "name": "python",
      "nbconvert_exporter": "python",
      "pygments_lexer": "ipython3",
      "version": "3.12.2"
    }
  },
  "nbformat": 4,
  "nbformat_minor": 0
}
