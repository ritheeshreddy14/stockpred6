{
  "cells": [
    {
      "cell_type": "code",
      "execution_count": 9,
      "metadata": {
        "id": "wjC4gskP-stY"
      },
      "outputs": [],
      "source": [
        "# Stage 1: Input and Target Creation in Python (Jupyter Notebook format)\n",
        "\n",
        "import pandas as pd\n",
        "import numpy as np\n",
        "from ta.momentum import RSIIndicator, StochasticOscillator, WilliamsRIndicator\n",
        "from ta.trend import ADXIndicator, SMAIndicator\n",
        "from ta.volatility import AverageTrueRange\n",
        "from ta.volume import MFIIndicator\n",
        "import matplotlib.pyplot as plt\n"
      ]
    },
    {
      "cell_type": "code",
      "execution_count": 2,
      "metadata": {},
      "outputs": [],
      "source": [
        "import pandas as pd\n",
        "import numpy as np"
      ]
    },
    {
      "cell_type": "code",
      "execution_count": 3,
      "metadata": {
        "id": "ecV5BmBM-vWH"
      },
      "outputs": [
        {
          "name": "stdout",
          "output_type": "stream",
          "text": [
            "Date        datetime64[ns]\n",
            "Open               float64\n",
            "High               float64\n",
            "Low                float64\n",
            "Close              float64\n",
            "Volume             float64\n",
            "Adjusted           float64\n",
            "dtype: object\n",
            "        Date       Open       High        Low      Close    Volume  Adjusted\n",
            "0 2000-01-03  12.862573  12.862573  12.529660  12.529660   57616.0  5.006402\n",
            "1 2000-01-04  13.104692  13.104692  12.892838  12.983633   94582.0  5.187793\n",
            "2 2000-01-05  12.953368  13.134957  12.832308  13.134957  198456.0  5.248257\n",
            "3 2000-01-06  13.013898  13.074427  12.771779  12.923103   40889.0  5.163606\n",
            "4 2000-01-07  13.316546  13.800784  13.316546  13.800784  247605.0  5.514297\n",
            "           Date       Open       High        Low      Close     Volume  \\\n",
            "5278 2020-12-23  65.519997  66.000000  65.269997  65.629997  1606900.0   \n",
            "5279 2020-12-24  65.980003  66.059998  64.940002  65.150002   620100.0   \n",
            "5280 2020-12-28  65.639999  65.970001  65.059998  65.290001   813500.0   \n",
            "5281 2020-12-29  66.400002  66.470001  65.529999  65.699997  2032200.0   \n",
            "5282 2020-12-30  66.099998  66.379997  65.760002  65.940002  1354700.0   \n",
            "\n",
            "       Adjusted  \n",
            "5278  65.629997  \n",
            "5279  65.150002  \n",
            "5280  65.290001  \n",
            "5281  65.699997  \n",
            "5282  65.940002  \n"
          ]
        }
      ],
      "source": [
        "df = pd.read_csv(\"raw_data/BHP.csv\")\n",
        "\n",
        "df['date'] = pd.to_datetime(df['date'], format='%m/%d/%Y')\n",
        "\n",
        "df = df.iloc[:, 1:]\n",
        "\n",
        "df.columns = ['Date', 'Open', 'High', 'Low', 'Close', 'Volume', 'Adjusted']\n",
        "\n",
        "print(df.dtypes)\n",
        "print(df.head())\n",
        "print(df.tail())\n"
      ]
    },
    {
      "cell_type": "code",
      "execution_count": 4,
      "metadata": {
        "id": "0k4jhBzJ-xXv"
      },
      "outputs": [
        {
          "name": "stdout",
          "output_type": "stream",
          "text": [
            "        Date       Open       High        Low      Close    Volume  Adjusted  \\\n",
            "0 2000-01-03  12.862573  12.862573  12.529660  12.529660   57616.0  5.006402   \n",
            "1 2000-01-04  13.104692  13.104692  12.892838  12.983633   94582.0  5.187793   \n",
            "2 2000-01-05  12.953368  13.134957  12.832308  13.134957  198456.0  5.248257   \n",
            "3 2000-01-06  13.013898  13.074427  12.771779  12.923103   40889.0  5.163606   \n",
            "4 2000-01-07  13.316546  13.800784  13.316546  13.800784  247605.0  5.514297   \n",
            "\n",
            "         r1        r2        r3        r4  \n",
            "0  0.000000  0.000000  0.000000  0.000000  \n",
            "1  0.035591  0.000000  0.000000  0.000000  \n",
            "2  0.011588  0.035591  0.000000  0.000000  \n",
            "3 -0.016261  0.011588  0.035591  0.000000  \n",
            "4  0.065709 -0.016261  0.011588  0.035591  \n"
          ]
        }
      ],
      "source": [
        "# Calculate Inputs series 1\n",
        "# Calculate r1\n",
        "df['r1'] = 0\n",
        "for i in range(1, len(df)):\n",
        "    df.loc[i, 'r1'] = np.log(df.loc[i, 'Close'] / df.loc[i-1, 'Close'])\n",
        "\n",
        "# Calculate r2\n",
        "df['r2'] = 0\n",
        "for i in range(2, len(df)):\n",
        "    df.loc[i, 'r2'] = np.log(df.loc[i-1, 'Close'] / df.loc[i-2, 'Close'])\n",
        "\n",
        "# Calculate r3\n",
        "df['r3'] = 0\n",
        "for i in range(3, len(df)):\n",
        "    df.loc[i, 'r3'] = np.log(df.loc[i-2, 'Close'] / df.loc[i-3, 'Close'])\n",
        "\n",
        "# Calculate r4\n",
        "df['r4'] = 0\n",
        "for i in range(4, len(df)):\n",
        "    df.loc[i, 'r4'] = np.log(df.loc[i-3, 'Close'] / df.loc[i-4, 'Close'])\n",
        "\n",
        "# Display the first few rows\n",
        "print(df.head())\n"
      ]
    },
    {
      "cell_type": "code",
      "execution_count": 5,
      "metadata": {
        "id": "360MGtNe-zxi"
      },
      "outputs": [
        {
          "name": "stdout",
          "output_type": "stream",
          "text": [
            "        Date       Open       High        Low      Close    Volume  Adjusted  \\\n",
            "0 2000-01-03  12.862573  12.862573  12.529660  12.529660   57616.0  5.006402   \n",
            "1 2000-01-04  13.104692  13.104692  12.892838  12.983633   94582.0  5.187793   \n",
            "2 2000-01-05  12.953368  13.134957  12.832308  13.134957  198456.0  5.248257   \n",
            "3 2000-01-06  13.013898  13.074427  12.771779  12.923103   40889.0  5.163606   \n",
            "4 2000-01-07  13.316546  13.800784  13.316546  13.800784  247605.0  5.514297   \n",
            "\n",
            "         r1        r2        r3        r4        r5        r6        r7  \\\n",
            "0  0.000000  0.000000  0.000000  0.000000  0.000000  0.000000  0.000000   \n",
            "1  0.035591  0.000000  0.000000  0.000000  0.000000  0.018649  0.000000   \n",
            "2  0.011588  0.035591  0.000000  0.000000  0.013921  0.002307  0.020955   \n",
            "3 -0.016261  0.011588  0.035591  0.000000  0.004640  0.009302 -0.002312   \n",
            "4  0.065709 -0.016261  0.011588  0.035591  0.035718  0.058708  0.063370   \n",
            "\n",
            "         r8        r9  \n",
            "0  0.000000  0.000000  \n",
            "1  0.000000  0.000000  \n",
            "2  0.000000  0.000000  \n",
            "3  0.016336  0.000000  \n",
            "4  0.051755  0.070404  \n"
          ]
        }
      ],
      "source": [
        "# Calculate r5\n",
        "df['r5'] = 0\n",
        "for i in range(len(df)):\n",
        "    df.loc[i, 'r5'] = np.log(df.loc[i, 'High'] / df.loc[i, 'Open'])\n",
        "\n",
        "# Calculate r6\n",
        "df['r6'] = 0\n",
        "for i in range(1, len(df)):\n",
        "    df.loc[i, 'r6'] = np.log(df.loc[i, 'High'] / df.loc[i-1, 'Open'])\n",
        "\n",
        "# Calculate r7\n",
        "df['r7'] = 0\n",
        "for i in range(2, len(df)):\n",
        "    df.loc[i, 'r7'] = np.log(df.loc[i, 'High'] / df.loc[i-2, 'Open'])\n",
        "\n",
        "# Calculate r8\n",
        "df['r8'] = 0\n",
        "for i in range(3, len(df)):\n",
        "    df.loc[i, 'r8'] = np.log(df.loc[i, 'High'] / df.loc[i-3, 'Open'])\n",
        "\n",
        "# Calculate r9\n",
        "df['r9'] = 0\n",
        "for i in range(4, len(df)):\n",
        "    df.loc[i, 'r9'] = np.log(df.loc[i, 'High'] / df.loc[i-4, 'Open'])\n",
        "\n",
        "# Display the first few rows\n",
        "print(df.head())\n"
      ]
    },
    {
      "cell_type": "code",
      "execution_count": 6,
      "metadata": {
        "id": "fRtdLH20-1-g"
      },
      "outputs": [
        {
          "name": "stdout",
          "output_type": "stream",
          "text": [
            "        Date       Open       High        Low      Close    Volume  Adjusted  \\\n",
            "0 2000-01-03  12.862573  12.862573  12.529660  12.529660   57616.0  5.006402   \n",
            "1 2000-01-04  13.104692  13.104692  12.892838  12.983633   94582.0  5.187793   \n",
            "2 2000-01-05  12.953368  13.134957  12.832308  13.134957  198456.0  5.248257   \n",
            "3 2000-01-06  13.013898  13.074427  12.771779  12.923103   40889.0  5.163606   \n",
            "4 2000-01-07  13.316546  13.800784  13.316546  13.800784  247605.0  5.514297   \n",
            "\n",
            "         r1        r2        r3        r4        r5        r6        r7  \\\n",
            "0  0.000000  0.000000  0.000000  0.000000  0.000000  0.000000  0.000000   \n",
            "1  0.035591  0.000000  0.000000  0.000000  0.000000  0.018649  0.000000   \n",
            "2  0.011588  0.035591  0.000000  0.000000  0.013921  0.002307  0.020955   \n",
            "3 -0.016261  0.011588  0.035591  0.000000  0.004640  0.009302 -0.002312   \n",
            "4  0.065709 -0.016261  0.011588  0.035591  0.035718  0.058708  0.063370   \n",
            "\n",
            "         r8        r9       r10       r11  r12  r13  \n",
            "0  0.000000  0.000000  0.000000  0.000000  0.0  0.0  \n",
            "1  0.000000  0.000000  0.000000  0.000000  0.0  0.0  \n",
            "2  0.000000  0.000000  0.000000  0.000000  0.0  0.0  \n",
            "3  0.016336  0.000000  0.013921  0.000000  0.0  0.0  \n",
            "4  0.051755  0.070404  0.004640  0.013921  0.0  0.0  \n"
          ]
        }
      ],
      "source": [
        "# Calculate r10\n",
        "df['r10'] = 0\n",
        "for i in range(1, len(df)):\n",
        "    df.loc[i, 'r10'] = np.log(df.loc[i-1, 'High'] / df.loc[i-1, 'Open'])\n",
        "\n",
        "# Calculate r11\n",
        "df['r11'] = 0\n",
        "for i in range(2, len(df)):\n",
        "    df.loc[i, 'r11'] = np.log(df.loc[i-2, 'High'] / df.loc[i-2, 'Open'])\n",
        "\n",
        "# Calculate r12\n",
        "df['r12'] = 0\n",
        "for i in range(3, len(df)):\n",
        "    df.loc[i, 'r12'] = np.log(df.loc[i-3, 'High'] / df.loc[i-3, 'Open'])\n",
        "\n",
        "# Calculate r13\n",
        "df['r13'] = 0\n",
        "for i in range(4, len(df)):\n",
        "    df.loc[i, 'r13'] = np.log(df.loc[i-4, 'High'] / df.loc[i-4, 'Open'])\n",
        "\n",
        "# Display the first few rows\n",
        "print(df.head())\n"
      ]
    },
    {
      "cell_type": "code",
      "execution_count": 7,
      "metadata": {
        "id": "jTcosjHB-46A"
      },
      "outputs": [
        {
          "name": "stdout",
          "output_type": "stream",
          "text": [
            "        Date       Open       High        Low      Close    Volume  Adjusted  \\\n",
            "0 2000-01-03  12.862573  12.862573  12.529660  12.529660   57616.0  5.006402   \n",
            "1 2000-01-04  13.104692  13.104692  12.892838  12.983633   94582.0  5.187793   \n",
            "2 2000-01-05  12.953368  13.134957  12.832308  13.134957  198456.0  5.248257   \n",
            "3 2000-01-06  13.013898  13.074427  12.771779  12.923103   40889.0  5.163606   \n",
            "4 2000-01-07  13.316546  13.800784  13.316546  13.800784  247605.0  5.514297   \n",
            "\n",
            "         r1        r2        r3  ...        r9       r10       r11  r12  r13  \\\n",
            "0  0.000000  0.000000  0.000000  ...  0.000000  0.000000  0.000000  0.0  0.0   \n",
            "1  0.035591  0.000000  0.000000  ...  0.000000  0.000000  0.000000  0.0  0.0   \n",
            "2  0.011588  0.035591  0.000000  ...  0.000000  0.000000  0.000000  0.0  0.0   \n",
            "3 -0.016261  0.011588  0.035591  ...  0.000000  0.013921  0.000000  0.0  0.0   \n",
            "4  0.065709 -0.016261  0.011588  ...  0.070404  0.004640  0.013921  0.0  0.0   \n",
            "\n",
            "        r14       r15       r16       r17       r18  \n",
            "0 -0.026223  0.000000  0.000000  0.000000  0.000000  \n",
            "1 -0.016298 -0.026223  0.000000  0.000000  0.000000  \n",
            "2 -0.009390 -0.016298 -0.026223  0.000000  0.000000  \n",
            "3 -0.018780 -0.009390 -0.016298 -0.026223  0.000000  \n",
            "4  0.000000 -0.018780 -0.009390 -0.016298 -0.026223  \n",
            "\n",
            "[5 rows x 25 columns]\n"
          ]
        }
      ],
      "source": [
        "# Calculate r14\n",
        "df['r14'] = 0\n",
        "for i in range(len(df)):\n",
        "    df.loc[i, 'r14'] = np.log(df.loc[i, 'Low'] / df.loc[i, 'Open'])\n",
        "\n",
        "# Calculate r15\n",
        "df['r15'] = 0\n",
        "for i in range(1, len(df)):\n",
        "    df.loc[i, 'r15'] = np.log(df.loc[i-1, 'Low'] / df.loc[i-1, 'Open'])\n",
        "\n",
        "# Calculate r16\n",
        "df['r16'] = 0\n",
        "for i in range(2, len(df)):\n",
        "    df.loc[i, 'r16'] = np.log(df.loc[i-2, 'Low'] / df.loc[i-2, 'Open'])\n",
        "\n",
        "# Calculate r17\n",
        "df['r17'] = 0\n",
        "for i in range(3, len(df)):\n",
        "    df.loc[i, 'r17'] = np.log(df.loc[i-3, 'Low'] / df.loc[i-3, 'Open'])\n",
        "\n",
        "# Calculate r18\n",
        "df['r18'] = 0\n",
        "for i in range(4, len(df)):\n",
        "    df.loc[i, 'r18'] = np.log(df.loc[i-4, 'Low'] / df.loc[i-4, 'Open'])\n",
        "\n",
        "# Display the first few rows\n",
        "print(df.head())\n"
      ]
    },
    {
      "cell_type": "code",
      "execution_count": 10,
      "metadata": {
        "id": "3xAKDgUh-7OB"
      },
      "outputs": [
        {
          "name": "stdout",
          "output_type": "stream",
          "text": [
            "        Date       Open       High        Low      Close    Volume  Adjusted  \\\n",
            "0 2000-01-03  12.862573  12.862573  12.529660  12.529660   57616.0  5.006402   \n",
            "1 2000-01-04  13.104692  13.104692  12.892838  12.983633   94582.0  5.187793   \n",
            "2 2000-01-05  12.953368  13.134957  12.832308  13.134957  198456.0  5.248257   \n",
            "3 2000-01-06  13.013898  13.074427  12.771779  12.923103   40889.0  5.163606   \n",
            "4 2000-01-07  13.316546  13.800784  13.316546  13.800784  247605.0  5.514297   \n",
            "\n",
            "         r1        r2        r3  ...       r11  r12  r13       r14       r15  \\\n",
            "0  0.000000  0.000000  0.000000  ...  0.000000  0.0  0.0 -0.026223  0.000000   \n",
            "1  0.035591  0.000000  0.000000  ...  0.000000  0.0  0.0 -0.016298 -0.026223   \n",
            "2  0.011588  0.035591  0.000000  ...  0.000000  0.0  0.0 -0.009390 -0.016298   \n",
            "3 -0.016261  0.011588  0.035591  ...  0.000000  0.0  0.0 -0.018780 -0.009390   \n",
            "4  0.065709 -0.016261  0.011588  ...  0.013921  0.0  0.0  0.000000 -0.018780   \n",
            "\n",
            "        r16       r17       r18  RSI  Momentum  \n",
            "0  0.000000  0.000000  0.000000  NaN       NaN  \n",
            "1  0.000000  0.000000  0.000000  NaN       NaN  \n",
            "2 -0.026223  0.000000  0.000000  NaN       NaN  \n",
            "3 -0.016298 -0.026223  0.000000  NaN       NaN  \n",
            "4 -0.009390 -0.016298 -0.026223  NaN       NaN  \n",
            "\n",
            "[5 rows x 27 columns]\n"
          ]
        }
      ],
      "source": [
        "# Calculate Technical Indicators\n",
        "\n",
        "# 1. Calculate RSI\n",
        "rsi_indicator = RSIIndicator(close=df['Close'], window=14)\n",
        "df['RSI'] = rsi_indicator.rsi()\n",
        "\n",
        "# 2. Calculate Momentum\n",
        "def momentum(close, n=10):\n",
        "    return close.diff(n)\n",
        "\n",
        "df['Momentum'] = momentum(df['Close'], 10)\n",
        "\n",
        "# Display the first few rows\n",
        "print(df.head())\n"
      ]
    },
    {
      "cell_type": "code",
      "execution_count": 11,
      "metadata": {
        "id": "4Nb0NoQW-80c"
      },
      "outputs": [
        {
          "name": "stdout",
          "output_type": "stream",
          "text": [
            "        Date       Open       High        Low      Close    Volume  Adjusted  \\\n",
            "0 2000-01-03  12.862573  12.862573  12.529660  12.529660   57616.0  5.006402   \n",
            "1 2000-01-04  13.104692  13.104692  12.892838  12.983633   94582.0  5.187793   \n",
            "2 2000-01-05  12.953368  13.134957  12.832308  13.134957  198456.0  5.248257   \n",
            "3 2000-01-06  13.013898  13.074427  12.771779  12.923103   40889.0  5.163606   \n",
            "4 2000-01-07  13.316546  13.800784  13.316546  13.800784  247605.0  5.514297   \n",
            "\n",
            "         r1        r2        r3  ...  r13       r14       r15       r16  \\\n",
            "0  0.000000  0.000000  0.000000  ...  0.0 -0.026223  0.000000  0.000000   \n",
            "1  0.035591  0.000000  0.000000  ...  0.0 -0.016298 -0.026223  0.000000   \n",
            "2  0.011588  0.035591  0.000000  ...  0.0 -0.009390 -0.016298 -0.026223   \n",
            "3 -0.016261  0.011588  0.035591  ...  0.0 -0.018780 -0.009390 -0.016298   \n",
            "4  0.065709 -0.016261  0.011588  ...  0.0  0.000000 -0.018780 -0.009390   \n",
            "\n",
            "        r17       r18  RSI  Momentum   TR  ATR  \n",
            "0  0.000000  0.000000  NaN       NaN  0.0  0.0  \n",
            "1  0.000000  0.000000  NaN       NaN  0.0  0.0  \n",
            "2  0.000000  0.000000  NaN       NaN  0.0  0.0  \n",
            "3 -0.026223  0.000000  NaN       NaN  0.0  0.0  \n",
            "4 -0.016298 -0.026223  NaN       NaN  0.0  0.0  \n",
            "\n",
            "[5 rows x 29 columns]\n"
          ]
        }
      ],
      "source": [
        "# 3. Calculate True Range\n",
        "atr_indicator = AverageTrueRange(high=df['High'], low=df['Low'], close=df['Close'], window=14)\n",
        "df['TR'] = atr_indicator.average_true_range()\n",
        "\n",
        "# 4. Calculate Average True Range\n",
        "df['ATR'] = atr_indicator.average_true_range()\n",
        "\n",
        "# Display the first few rows\n",
        "print(df.head())\n"
      ]
    },
    {
      "cell_type": "code",
      "execution_count": 12,
      "metadata": {
        "id": "yn_BrQO7-_fe"
      },
      "outputs": [
        {
          "name": "stdout",
          "output_type": "stream",
          "text": [
            "        Date       Open       High        Low      Close    Volume  Adjusted  \\\n",
            "0 2000-01-03  12.862573  12.862573  12.529660  12.529660   57616.0  5.006402   \n",
            "1 2000-01-04  13.104692  13.104692  12.892838  12.983633   94582.0  5.187793   \n",
            "2 2000-01-05  12.953368  13.134957  12.832308  13.134957  198456.0  5.248257   \n",
            "3 2000-01-06  13.013898  13.074427  12.771779  12.923103   40889.0  5.163606   \n",
            "4 2000-01-07  13.316546  13.800784  13.316546  13.800784  247605.0  5.514297   \n",
            "\n",
            "         r1        r2        r3  ...       r14       r15       r16       r17  \\\n",
            "0  0.000000  0.000000  0.000000  ... -0.026223  0.000000  0.000000  0.000000   \n",
            "1  0.035591  0.000000  0.000000  ... -0.016298 -0.026223  0.000000  0.000000   \n",
            "2  0.011588  0.035591  0.000000  ... -0.009390 -0.016298 -0.026223  0.000000   \n",
            "3 -0.016261  0.011588  0.035591  ... -0.018780 -0.009390 -0.016298 -0.026223   \n",
            "4  0.065709 -0.016261  0.011588  ...  0.000000 -0.018780 -0.009390 -0.016298   \n",
            "\n",
            "        r18  RSI  Momentum   TR  ATR        SAR  \n",
            "0  0.000000  NaN       NaN  0.0  0.0  12.529660  \n",
            "1  0.000000  NaN       NaN  0.0  0.0  12.536318  \n",
            "2  0.000000  NaN       NaN  0.0  0.0  12.559053  \n",
            "3  0.000000  NaN       NaN  0.0  0.0  12.593607  \n",
            "4 -0.026223  NaN       NaN  0.0  0.0  12.626088  \n",
            "\n",
            "[5 rows x 30 columns]\n"
          ]
        }
      ],
      "source": [
        "# 5. Calculate Parabolic SAR\n",
        "def calculate_sar(high, low, acceleration=0.02, maximum=0.2):\n",
        "    sar = pd.Series(index=high.index)\n",
        "    trend = pd.Series(index=high.index)\n",
        "    ep = pd.Series(index=high.index)\n",
        "    af = pd.Series(index=high.index)\n",
        "\n",
        "    # Initialize\n",
        "    trend[0] = 1  # Start with uptrend\n",
        "    sar[0] = low[0]\n",
        "    ep[0] = high[0]\n",
        "    af[0] = acceleration\n",
        "\n",
        "    for i in range(1, len(high)):\n",
        "        if trend[i-1] == 1:  # Uptrend\n",
        "            sar[i] = sar[i-1] + af[i-1] * (ep[i-1] - sar[i-1])\n",
        "            if low[i] < sar[i]:\n",
        "                trend[i] = -1  # Switch to downtrend\n",
        "                sar[i] = ep[i-1]\n",
        "                ep[i] = low[i]\n",
        "                af[i] = acceleration\n",
        "            else:\n",
        "                trend[i] = 1  # Continue uptrend\n",
        "                if high[i] > ep[i-1]:\n",
        "                    ep[i] = high[i]\n",
        "                    af[i] = min(af[i-1] + acceleration, maximum)\n",
        "                else:\n",
        "                    ep[i] = ep[i-1]\n",
        "                    af[i] = af[i-1]\n",
        "        else:  # Downtrend\n",
        "            sar[i] = sar[i-1] - af[i-1] * (sar[i-1] - ep[i-1])\n",
        "            if high[i] > sar[i]:\n",
        "                trend[i] = 1  # Switch to uptrend\n",
        "                sar[i] = ep[i-1]\n",
        "                ep[i] = high[i]\n",
        "                af[i] = acceleration\n",
        "            else:\n",
        "                trend[i] = -1  # Continue downtrend\n",
        "                if low[i] < ep[i-1]:\n",
        "                    ep[i] = low[i]\n",
        "                    af[i] = min(af[i-1] + acceleration, maximum)\n",
        "                else:\n",
        "                    ep[i] = ep[i-1]\n",
        "                    af[i] = af[i-1]\n",
        "\n",
        "    return sar\n",
        "\n",
        "df['SAR'] = calculate_sar(df['High'], df['Low'])\n",
        "\n",
        "# Display the first few rows\n",
        "print(df.head())\n"
      ]
    },
    {
      "cell_type": "code",
      "execution_count": 13,
      "metadata": {
        "id": "Cl7fnwrn_Bwu"
      },
      "outputs": [
        {
          "name": "stdout",
          "output_type": "stream",
          "text": [
            "        Date       Open       High        Low      Close    Volume  Adjusted  \\\n",
            "0 2000-01-03  12.862573  12.862573  12.529660  12.529660   57616.0  5.006402   \n",
            "1 2000-01-04  13.104692  13.104692  12.892838  12.983633   94582.0  5.187793   \n",
            "2 2000-01-05  12.953368  13.134957  12.832308  13.134957  198456.0  5.248257   \n",
            "3 2000-01-06  13.013898  13.074427  12.771779  12.923103   40889.0  5.163606   \n",
            "4 2000-01-07  13.316546  13.800784  13.316546  13.800784  247605.0  5.514297   \n",
            "\n",
            "         r1        r2        r3  ...       r16       r17       r18  RSI  \\\n",
            "0  0.000000  0.000000  0.000000  ...  0.000000  0.000000  0.000000  NaN   \n",
            "1  0.035591  0.000000  0.000000  ...  0.000000  0.000000  0.000000  NaN   \n",
            "2  0.011588  0.035591  0.000000  ... -0.026223  0.000000  0.000000  NaN   \n",
            "3 -0.016261  0.011588  0.035591  ... -0.016298 -0.026223  0.000000  NaN   \n",
            "4  0.065709 -0.016261  0.011588  ... -0.009390 -0.016298 -0.026223  NaN   \n",
            "\n",
            "   Momentum   TR  ATR        SAR  MFI  CCI  \n",
            "0       NaN  0.0  0.0  12.529660  NaN  NaN  \n",
            "1       NaN  0.0  0.0  12.536318  NaN  NaN  \n",
            "2       NaN  0.0  0.0  12.559053  NaN  NaN  \n",
            "3       NaN  0.0  0.0  12.593607  NaN  NaN  \n",
            "4       NaN  0.0  0.0  12.626088  NaN  NaN  \n",
            "\n",
            "[5 rows x 32 columns]\n"
          ]
        }
      ],
      "source": [
        "# 6. Calculate MFI\n",
        "mfi_indicator = MFIIndicator(high=df['High'], low=df['Low'], close=df['Close'], volume=df['Volume'], window=14)\n",
        "df['MFI'] = mfi_indicator.money_flow_index()\n",
        "\n",
        "# 7. Calculate CCI\n",
        "def calculate_cci(high, low, close, window=20):\n",
        "    tp = (high + low + close) / 3\n",
        "    ma = tp.rolling(window=window).mean()\n",
        "    md = tp.rolling(window=window).apply(lambda x: np.mean(np.abs(x - np.mean(x))))\n",
        "    cci = (tp - ma) / (0.015 * md)\n",
        "    return cci\n",
        "\n",
        "df['CCI'] = calculate_cci(df['High'], df['Low'], df['Close'])\n",
        "\n",
        "# Display the first few rows\n",
        "print(df.head())\n"
      ]
    },
    {
      "cell_type": "code",
      "execution_count": 14,
      "metadata": {
        "id": "gb3fDzgJ_DSd"
      },
      "outputs": [
        {
          "name": "stdout",
          "output_type": "stream",
          "text": [
            "        Date       Open       High        Low      Close    Volume  Adjusted  \\\n",
            "0 2000-01-03  12.862573  12.862573  12.529660  12.529660   57616.0  5.006402   \n",
            "1 2000-01-04  13.104692  13.104692  12.892838  12.983633   94582.0  5.187793   \n",
            "2 2000-01-05  12.953368  13.134957  12.832308  13.134957  198456.0  5.248257   \n",
            "3 2000-01-06  13.013898  13.074427  12.771779  12.923103   40889.0  5.163606   \n",
            "4 2000-01-07  13.316546  13.800784  13.316546  13.800784  247605.0  5.514297   \n",
            "\n",
            "         r1        r2        r3  ...       r18  RSI  Momentum   TR  ATR  \\\n",
            "0  0.000000  0.000000  0.000000  ...  0.000000  NaN       NaN  0.0  0.0   \n",
            "1  0.035591  0.000000  0.000000  ...  0.000000  NaN       NaN  0.0  0.0   \n",
            "2  0.011588  0.035591  0.000000  ...  0.000000  NaN       NaN  0.0  0.0   \n",
            "3 -0.016261  0.011588  0.035591  ...  0.000000  NaN       NaN  0.0  0.0   \n",
            "4  0.065709 -0.016261  0.011588  ... -0.026223  NaN       NaN  0.0  0.0   \n",
            "\n",
            "         SAR  MFI  CCI  SMA  WMA  \n",
            "0  12.529660  NaN  NaN  NaN  NaN  \n",
            "1  12.536318  NaN  NaN  NaN  NaN  \n",
            "2  12.559053  NaN  NaN  NaN  NaN  \n",
            "3  12.593607  NaN  NaN  NaN  NaN  \n",
            "4  12.626088  NaN  NaN  NaN  NaN  \n",
            "\n",
            "[5 rows x 34 columns]\n"
          ]
        }
      ],
      "source": [
        "# 8. Calculate SMA\n",
        "sma_indicator = SMAIndicator(close=df['Close'], window=20)\n",
        "df['SMA'] = sma_indicator.sma_indicator()\n",
        "\n",
        "# 9. Calculate WMA\n",
        "def calculate_wma(close, window=20):\n",
        "    weights = np.arange(1, window+1)\n",
        "    return close.rolling(window).apply(lambda x: np.sum(weights * x) / np.sum(weights), raw=True)\n",
        "\n",
        "df['WMA'] = calculate_wma(df['Close'], 20)\n",
        "\n",
        "# Display the first few rows\n",
        "print(df.head())\n"
      ]
    },
    {
      "cell_type": "code",
      "execution_count": 15,
      "metadata": {
        "id": "wvPDqrEO_E9C"
      },
      "outputs": [
        {
          "name": "stdout",
          "output_type": "stream",
          "text": [
            "        Date       Open       High        Low      Close    Volume  Adjusted  \\\n",
            "0 2000-01-03  12.862573  12.862573  12.529660  12.529660   57616.0  5.006402   \n",
            "1 2000-01-04  13.104692  13.104692  12.892838  12.983633   94582.0  5.187793   \n",
            "2 2000-01-05  12.953368  13.134957  12.832308  13.134957  198456.0  5.248257   \n",
            "3 2000-01-06  13.013898  13.074427  12.771779  12.923103   40889.0  5.163606   \n",
            "4 2000-01-07  13.316546  13.800784  13.316546  13.800784  247605.0  5.514297   \n",
            "\n",
            "         r1        r2        r3  ...  RSI  Momentum   TR  ATR        SAR  MFI  \\\n",
            "0  0.000000  0.000000  0.000000  ...  NaN       NaN  0.0  0.0  12.529660  NaN   \n",
            "1  0.035591  0.000000  0.000000  ...  NaN       NaN  0.0  0.0  12.536318  NaN   \n",
            "2  0.011588  0.035591  0.000000  ...  NaN       NaN  0.0  0.0  12.559053  NaN   \n",
            "3 -0.016261  0.011588  0.035591  ...  NaN       NaN  0.0  0.0  12.593607  NaN   \n",
            "4  0.065709 -0.016261  0.011588  ...  NaN       NaN  0.0  0.0  12.626088  NaN   \n",
            "\n",
            "   CCI  SMA  WMA  HMA  \n",
            "0  NaN  NaN  NaN  NaN  \n",
            "1  NaN  NaN  NaN  NaN  \n",
            "2  NaN  NaN  NaN  NaN  \n",
            "3  NaN  NaN  NaN  NaN  \n",
            "4  NaN  NaN  NaN  NaN  \n",
            "\n",
            "[5 rows x 35 columns]\n"
          ]
        }
      ],
      "source": [
        "# 10. Calculate HMA (Hull Moving Average)\n",
        "def calculate_hma(close, window=16):\n",
        "    half_window = int(window / 2)\n",
        "    sqrt_window = int(np.sqrt(window))\n",
        "\n",
        "    wma1 = calculate_wma(close, half_window)\n",
        "    wma2 = calculate_wma(close, window)\n",
        "\n",
        "    raw_hma = 2 * wma1 - wma2\n",
        "    hma = calculate_wma(raw_hma, sqrt_window)\n",
        "\n",
        "    return hma\n",
        "\n",
        "df['HMA'] = calculate_hma(df['Close'])\n",
        "\n",
        "# Display the first few rows\n",
        "print(df.head())\n"
      ]
    },
    {
      "cell_type": "code",
      "execution_count": 16,
      "metadata": {
        "id": "M_XfKj9h_Gzy"
      },
      "outputs": [
        {
          "name": "stdout",
          "output_type": "stream",
          "text": [
            "        Date       Open       High        Low      Close    Volume  Adjusted  \\\n",
            "0 2000-01-03  12.862573  12.862573  12.529660  12.529660   57616.0  5.006402   \n",
            "1 2000-01-04  13.104692  13.104692  12.892838  12.983633   94582.0  5.187793   \n",
            "2 2000-01-05  12.953368  13.134957  12.832308  13.134957  198456.0  5.248257   \n",
            "3 2000-01-06  13.013898  13.074427  12.771779  12.923103   40889.0  5.163606   \n",
            "4 2000-01-07  13.316546  13.800784  13.316546  13.800784  247605.0  5.514297   \n",
            "\n",
            "         r1        r2        r3  ...   TR  ATR        SAR  MFI  CCI  SMA  WMA  \\\n",
            "0  0.000000  0.000000  0.000000  ...  0.0  0.0  12.529660  NaN  NaN  NaN  NaN   \n",
            "1  0.035591  0.000000  0.000000  ...  0.0  0.0  12.536318  NaN  NaN  NaN  NaN   \n",
            "2  0.011588  0.035591  0.000000  ...  0.0  0.0  12.559053  NaN  NaN  NaN  NaN   \n",
            "3 -0.016261  0.011588  0.035591  ...  0.0  0.0  12.593607  NaN  NaN  NaN  NaN   \n",
            "4  0.065709 -0.016261  0.011588  ...  0.0  0.0  12.626088  NaN  NaN  NaN  NaN   \n",
            "\n",
            "   HMA  ADX  WPR  \n",
            "0  NaN  0.0  NaN  \n",
            "1  NaN  0.0  NaN  \n",
            "2  NaN  0.0  NaN  \n",
            "3  NaN  0.0  NaN  \n",
            "4  NaN  0.0  NaN  \n",
            "\n",
            "[5 rows x 37 columns]\n"
          ]
        }
      ],
      "source": [
        "# 11. Calculate ADX\n",
        "adx_indicator = ADXIndicator(high=df['High'], low=df['Low'], close=df['Close'], window=14)\n",
        "df['ADX'] = adx_indicator.adx()\n",
        "\n",
        "# 12. Calculate Williams %R\n",
        "williams_indicator = WilliamsRIndicator(high=df['High'], low=df['Low'], close=df['Close'], lbp=14)\n",
        "df['WPR'] = williams_indicator.williams_r()\n",
        "\n",
        "# Display the first few rows\n",
        "print(df.head())\n"
      ]
    },
    {
      "cell_type": "code",
      "execution_count": 17,
      "metadata": {
        "id": "dYFuSqoU_NUg"
      },
      "outputs": [
        {
          "name": "stdout",
          "output_type": "stream",
          "text": [
            "         Date       Open       High        Low      Close    Volume  Adjusted  \\\n",
            "0  2000-01-03  12.862573  12.862573  12.529660  12.529660   57616.0  5.006402   \n",
            "1  2000-01-04  13.104692  13.104692  12.892838  12.983633   94582.0  5.187793   \n",
            "2  2000-01-05  12.953368  13.134957  12.832308  13.134957  198456.0  5.248257   \n",
            "3  2000-01-06  13.013898  13.074427  12.771779  12.923103   40889.0  5.163606   \n",
            "4  2000-01-07  13.316546  13.800784  13.316546  13.800784  247605.0  5.514297   \n",
            "5  2000-01-10  13.679725  13.800784  13.588930  13.679725   86115.0  5.465925   \n",
            "6  2000-01-11  13.195487  13.316546  13.044163  13.074427   56171.0  5.224071   \n",
            "7  2000-01-12  13.134957  13.195487  12.953368  13.104692  133612.0  5.236164   \n",
            "8  2000-01-13  13.225752  13.225752  13.013898  13.195487   76409.0  5.272441   \n",
            "9  2000-01-14  13.165222  13.195487  13.134957  13.195487   17553.0  5.272441   \n",
            "10 2000-01-18  12.832308  12.953368  12.620454  12.953368   53899.0  5.175699   \n",
            "11 2000-01-19  12.741514  12.741514  12.529660  12.680984   35107.0  5.066865   \n",
            "12 2000-01-20  12.832308  13.104692  12.832308  13.013898   23336.0  5.199885   \n",
            "13 2000-01-21  12.771779  12.771779  12.590189  12.590189   46878.0  5.030586   \n",
            "14 2000-01-24  12.469130  12.469130  12.227011  12.227011  149513.0  4.885473   \n",
            "15 2000-01-25  12.287541  12.469130  12.227011  12.227011   26020.0  4.885473   \n",
            "16 2000-01-26  12.227011  12.317805  12.075686  12.075686   46878.0  4.825010   \n",
            "17 2000-01-27  11.984892  12.105951  11.863832  11.954627   37172.0  4.776640   \n",
            "18 2000-01-28  11.984892  11.984892  11.561183  11.561183   29118.0  4.619432   \n",
            "19 2000-01-31  11.440124  11.561183  11.288800  11.470389  106353.0  4.583154   \n",
            "\n",
            "          r1        r2        r3  ...        SAR        MFI         CCI  \\\n",
            "0   0.000000  0.000000  0.000000  ...  12.529660        NaN         NaN   \n",
            "1   0.035591  0.000000  0.000000  ...  12.536318        NaN         NaN   \n",
            "2   0.011588  0.035591  0.000000  ...  12.559053        NaN         NaN   \n",
            "3  -0.016261  0.011588  0.035591  ...  12.593607        NaN         NaN   \n",
            "4   0.065709 -0.016261  0.011588  ...  12.626088        NaN         NaN   \n",
            "5  -0.008811  0.065709 -0.016261  ...  12.720064        NaN         NaN   \n",
            "6  -0.045257 -0.008811  0.065709  ...  12.806522        NaN         NaN   \n",
            "7   0.002312 -0.045257 -0.008811  ...  12.886063        NaN         NaN   \n",
            "8   0.006905  0.002312 -0.045257  ...  12.959240        NaN         NaN   \n",
            "9   0.000000  0.006905  0.002312  ...  13.026564        NaN         NaN   \n",
            "10 -0.018519  0.000000  0.006905  ...  13.800784        NaN         NaN   \n",
            "11 -0.021252 -0.018519  0.000000  ...  13.777177        NaN         NaN   \n",
            "12  0.025914 -0.021252 -0.018519  ...  13.727277        NaN         NaN   \n",
            "13 -0.033100  0.025914 -0.021252  ...  13.679372  67.625633         NaN   \n",
            "14 -0.029270 -0.033100  0.025914  ...  13.633384  60.081368         NaN   \n",
            "15  0.000000 -0.029270 -0.033100  ...  13.549001  56.867758         NaN   \n",
            "16 -0.012454  0.000000 -0.029270  ...  13.469682  46.000886         NaN   \n",
            "17 -0.010076 -0.012454  0.000000  ...  13.358162  46.291881         NaN   \n",
            "18 -0.033465 -0.010076 -0.012454  ...  13.208729  26.828238         NaN   \n",
            "19 -0.007884 -0.033465 -0.010076  ...  13.011024  15.133439 -182.626788   \n",
            "\n",
            "          SMA        WMA        HMA  ADX         WPR        pk    pslowD  \n",
            "0         NaN        NaN        NaN  0.0         NaN       NaN       NaN  \n",
            "1         NaN        NaN        NaN  0.0         NaN       NaN       NaN  \n",
            "2         NaN        NaN        NaN  0.0         NaN       NaN       NaN  \n",
            "3         NaN        NaN        NaN  0.0         NaN       NaN       NaN  \n",
            "4         NaN        NaN        NaN  0.0         NaN       NaN       NaN  \n",
            "5         NaN        NaN        NaN  0.0         NaN       NaN       NaN  \n",
            "6         NaN        NaN        NaN  0.0         NaN       NaN       NaN  \n",
            "7         NaN        NaN        NaN  0.0         NaN       NaN       NaN  \n",
            "8         NaN        NaN        NaN  0.0         NaN       NaN       NaN  \n",
            "9         NaN        NaN        NaN  0.0         NaN       NaN       NaN  \n",
            "10        NaN        NaN        NaN  0.0         NaN       NaN       NaN  \n",
            "11        NaN        NaN        NaN  0.0         NaN       NaN       NaN  \n",
            "12        NaN        NaN        NaN  0.0         NaN       NaN       NaN  \n",
            "13        NaN        NaN        NaN  0.0  -95.238151  4.761849       NaN  \n",
            "14        NaN        NaN        NaN  0.0 -100.000000  0.000000       NaN  \n",
            "15        NaN        NaN        NaN  0.0 -100.000000  0.000000  1.587283  \n",
            "16        NaN        NaN        NaN  0.0 -100.000000  0.000000  0.000000  \n",
            "17        NaN        NaN        NaN  0.0  -95.312481  4.687519  1.562506  \n",
            "18        NaN        NaN  11.925349  0.0 -100.000000  0.000000  1.562506  \n",
            "19  12.718815  12.459186  11.709496  0.0  -91.044786  8.955214  4.547578  \n",
            "\n",
            "[20 rows x 39 columns]\n"
          ]
        }
      ],
      "source": [
        "# 13 & 14. Calculate Stochastic Oscillator\n",
        "stoch_indicator = StochasticOscillator(high=df['High'], low=df['Low'], close=df['Close'], window=14, smooth_window=3)\n",
        "df['pk'] = stoch_indicator.stoch()\n",
        "df['pslowD'] = stoch_indicator.stoch_signal()\n",
        "\n",
        "# Display the first 20 rows\n",
        "print(df.head(20))\n"
      ]
    },
    {
      "cell_type": "code",
      "execution_count": 18,
      "metadata": {
        "id": "G7kA3xo5_Qj1"
      },
      "outputs": [
        {
          "name": "stdout",
          "output_type": "stream",
          "text": [
            "Date         0\n",
            "Open         0\n",
            "High         0\n",
            "Low          0\n",
            "Close        0\n",
            "Volume       0\n",
            "Adjusted     0\n",
            "r1           0\n",
            "r2           0\n",
            "r3           0\n",
            "r4           0\n",
            "r5           0\n",
            "r6           0\n",
            "r7           0\n",
            "r8           0\n",
            "r9           0\n",
            "r10          0\n",
            "r11          0\n",
            "r12          0\n",
            "r13          0\n",
            "r14          0\n",
            "r15          0\n",
            "r16          0\n",
            "r17          0\n",
            "r18          0\n",
            "RSI         13\n",
            "Momentum    10\n",
            "TR           0\n",
            "ATR          0\n",
            "SAR          0\n",
            "MFI         13\n",
            "CCI         19\n",
            "SMA         19\n",
            "WMA         19\n",
            "HMA         18\n",
            "ADX          0\n",
            "WPR         13\n",
            "pk          13\n",
            "pslowD      15\n",
            "dtype: int64\n",
            "Index(['Date', 'Open', 'High', 'Low', 'Close', 'Volume', 'Adjusted', 'r1',\n",
            "       'r2', 'r3', 'r4', 'r5', 'r6', 'r7', 'r8', 'r9', 'r10', 'r11', 'r12',\n",
            "       'r13', 'r14', 'r15', 'r16', 'r17', 'r18', 'RSI', 'Momentum', 'TR',\n",
            "       'ATR', 'SAR', 'MFI', 'CCI', 'SMA', 'WMA', 'HMA', 'ADX', 'WPR', 'pk',\n",
            "       'pslowD'],\n",
            "      dtype='object')\n",
            "         Date       Open       High        Low      Close    Volume  Adjusted  \\\n",
            "0  2000-01-03  12.862573  12.862573  12.529660  12.529660   57616.0  5.006402   \n",
            "1  2000-01-04  13.104692  13.104692  12.892838  12.983633   94582.0  5.187793   \n",
            "2  2000-01-05  12.953368  13.134957  12.832308  13.134957  198456.0  5.248257   \n",
            "3  2000-01-06  13.013898  13.074427  12.771779  12.923103   40889.0  5.163606   \n",
            "4  2000-01-07  13.316546  13.800784  13.316546  13.800784  247605.0  5.514297   \n",
            "5  2000-01-10  13.679725  13.800784  13.588930  13.679725   86115.0  5.465925   \n",
            "6  2000-01-11  13.195487  13.316546  13.044163  13.074427   56171.0  5.224071   \n",
            "7  2000-01-12  13.134957  13.195487  12.953368  13.104692  133612.0  5.236164   \n",
            "8  2000-01-13  13.225752  13.225752  13.013898  13.195487   76409.0  5.272441   \n",
            "9  2000-01-14  13.165222  13.195487  13.134957  13.195487   17553.0  5.272441   \n",
            "10 2000-01-18  12.832308  12.953368  12.620454  12.953368   53899.0  5.175699   \n",
            "11 2000-01-19  12.741514  12.741514  12.529660  12.680984   35107.0  5.066865   \n",
            "12 2000-01-20  12.832308  13.104692  12.832308  13.013898   23336.0  5.199885   \n",
            "13 2000-01-21  12.771779  12.771779  12.590189  12.590189   46878.0  5.030586   \n",
            "14 2000-01-24  12.469130  12.469130  12.227011  12.227011  149513.0  4.885473   \n",
            "15 2000-01-25  12.287541  12.469130  12.227011  12.227011   26020.0  4.885473   \n",
            "16 2000-01-26  12.227011  12.317805  12.075686  12.075686   46878.0  4.825010   \n",
            "17 2000-01-27  11.984892  12.105951  11.863832  11.954627   37172.0  4.776640   \n",
            "18 2000-01-28  11.984892  11.984892  11.561183  11.561183   29118.0  4.619432   \n",
            "19 2000-01-31  11.440124  11.561183  11.288800  11.470389  106353.0  4.583154   \n",
            "\n",
            "          r1        r2        r3  ...        SAR        MFI         CCI  \\\n",
            "0   0.000000  0.000000  0.000000  ...  12.529660   0.000000    0.000000   \n",
            "1   0.035591  0.000000  0.000000  ...  12.536318   0.000000    0.000000   \n",
            "2   0.011588  0.035591  0.000000  ...  12.559053   0.000000    0.000000   \n",
            "3  -0.016261  0.011588  0.035591  ...  12.593607   0.000000    0.000000   \n",
            "4   0.065709 -0.016261  0.011588  ...  12.626088   0.000000    0.000000   \n",
            "5  -0.008811  0.065709 -0.016261  ...  12.720064   0.000000    0.000000   \n",
            "6  -0.045257 -0.008811  0.065709  ...  12.806522   0.000000    0.000000   \n",
            "7   0.002312 -0.045257 -0.008811  ...  12.886063   0.000000    0.000000   \n",
            "8   0.006905  0.002312 -0.045257  ...  12.959240   0.000000    0.000000   \n",
            "9   0.000000  0.006905  0.002312  ...  13.026564   0.000000    0.000000   \n",
            "10 -0.018519  0.000000  0.006905  ...  13.800784   0.000000    0.000000   \n",
            "11 -0.021252 -0.018519  0.000000  ...  13.777177   0.000000    0.000000   \n",
            "12  0.025914 -0.021252 -0.018519  ...  13.727277   0.000000    0.000000   \n",
            "13 -0.033100  0.025914 -0.021252  ...  13.679372  67.625633    0.000000   \n",
            "14 -0.029270 -0.033100  0.025914  ...  13.633384  60.081368    0.000000   \n",
            "15  0.000000 -0.029270 -0.033100  ...  13.549001  56.867758    0.000000   \n",
            "16 -0.012454  0.000000 -0.029270  ...  13.469682  46.000886    0.000000   \n",
            "17 -0.010076 -0.012454  0.000000  ...  13.358162  46.291881    0.000000   \n",
            "18 -0.033465 -0.010076 -0.012454  ...  13.208729  26.828238    0.000000   \n",
            "19 -0.007884 -0.033465 -0.010076  ...  13.011024  15.133439 -182.626788   \n",
            "\n",
            "          SMA        WMA        HMA  ADX         WPR        pk    pslowD  \n",
            "0    0.000000   0.000000   0.000000  0.0    0.000000  0.000000  0.000000  \n",
            "1    0.000000   0.000000   0.000000  0.0    0.000000  0.000000  0.000000  \n",
            "2    0.000000   0.000000   0.000000  0.0    0.000000  0.000000  0.000000  \n",
            "3    0.000000   0.000000   0.000000  0.0    0.000000  0.000000  0.000000  \n",
            "4    0.000000   0.000000   0.000000  0.0    0.000000  0.000000  0.000000  \n",
            "5    0.000000   0.000000   0.000000  0.0    0.000000  0.000000  0.000000  \n",
            "6    0.000000   0.000000   0.000000  0.0    0.000000  0.000000  0.000000  \n",
            "7    0.000000   0.000000   0.000000  0.0    0.000000  0.000000  0.000000  \n",
            "8    0.000000   0.000000   0.000000  0.0    0.000000  0.000000  0.000000  \n",
            "9    0.000000   0.000000   0.000000  0.0    0.000000  0.000000  0.000000  \n",
            "10   0.000000   0.000000   0.000000  0.0    0.000000  0.000000  0.000000  \n",
            "11   0.000000   0.000000   0.000000  0.0    0.000000  0.000000  0.000000  \n",
            "12   0.000000   0.000000   0.000000  0.0    0.000000  0.000000  0.000000  \n",
            "13   0.000000   0.000000   0.000000  0.0  -95.238151  4.761849  0.000000  \n",
            "14   0.000000   0.000000   0.000000  0.0 -100.000000  0.000000  0.000000  \n",
            "15   0.000000   0.000000   0.000000  0.0 -100.000000  0.000000  1.587283  \n",
            "16   0.000000   0.000000   0.000000  0.0 -100.000000  0.000000  0.000000  \n",
            "17   0.000000   0.000000   0.000000  0.0  -95.312481  4.687519  1.562506  \n",
            "18   0.000000   0.000000  11.925349  0.0 -100.000000  0.000000  1.562506  \n",
            "19  12.718815  12.459186  11.709496  0.0  -91.044786  8.955214  4.547578  \n",
            "\n",
            "[20 rows x 39 columns]\n"
          ]
        }
      ],
      "source": [
        "# Check for any NaN values in the dataframe\n",
        "print(df.isna().sum())\n",
        "\n",
        "# Fill NaN values with 0 or appropriate method for your analysis\n",
        "df = df.fillna(0)\n",
        "\n",
        "# Final check of the dataframe\n",
        "print(df.columns)\n",
        "print(df.head(20))\n"
      ]
    },
    {
      "cell_type": "code",
      "execution_count": 19,
      "metadata": {},
      "outputs": [
        {
          "name": "stdout",
          "output_type": "stream",
          "text": [
            "Directional Break Point CSV saved at: input_and_target_creation/BHP/directional_break_point/dbp.csv\n"
          ]
        }
      ],
      "source": [
        "#adding code for target creations, \n",
        "\n",
        "dbp_df = df.copy()\n",
        "dbp_df['distance'] = np.log(dbp_df['High'] / dbp_df['Low'])\n",
        "\n",
        "import os\n",
        "\n",
        "dbp_folder = \"input_and_target_creation/BHP/directional_break_point\"\n",
        "os.makedirs(dbp_folder, exist_ok=True)\n",
        "\n",
        "dbp_df.to_csv(os.path.join(dbp_folder, \"dbp_df.csv\"), index=False)\n",
        "\n",
        "print(\"Directional Break Point CSV saved at:\", os.path.join(dbp_folder, \"dbp.csv\"))"
      ]
    },
    {
      "cell_type": "code",
      "execution_count": 20,
      "metadata": {},
      "outputs": [
        {
          "name": "stdout",
          "output_type": "stream",
          "text": [
            "Delta CSV saved at: input_and_target_creation/BHP/directional_break_point/delta.csv\n"
          ]
        }
      ],
      "source": [
        "delta_df = df.copy()\n",
        "delta_df['delta'] = delta_df['Close'].diff()\n",
        "\n",
        "delta_folder = \"input_and_target_creation/BHP/delta\"\n",
        "os.makedirs(delta_folder, exist_ok=True)\n",
        "\n",
        "delta_df.to_csv('input_and_target_creation/BHP/delta.csv', index=False) \n",
        "\n",
        "print(\"Delta CSV saved at:\", os.path.join(dbp_folder, \"delta.csv\"))"
      ]
    },
    {
      "cell_type": "code",
      "execution_count": 22,
      "metadata": {},
      "outputs": [
        {
          "name": "stdout",
          "output_type": "stream",
          "text": [
            "Peak Height CSV saved at: input_and_target_creation/BHP/directional_break_point/peak_height.csv\n",
            "        Date       Open       High        Low      Close    Volume  Adjusted  \\\n",
            "0 2000-01-03  12.862573  12.862573  12.529660  12.529660   57616.0  5.006402   \n",
            "1 2000-01-04  13.104692  13.104692  12.892838  12.983633   94582.0  5.187793   \n",
            "2 2000-01-05  12.953368  13.134957  12.832308  13.134957  198456.0  5.248257   \n",
            "3 2000-01-06  13.013898  13.074427  12.771779  12.923103   40889.0  5.163606   \n",
            "4 2000-01-07  13.316546  13.800784  13.316546  13.800784  247605.0  5.514297   \n",
            "\n",
            "         r1        r2        r3  ...  MFI  CCI  SMA  WMA  HMA  ADX  WPR   pk  \\\n",
            "0  0.000000  0.000000  0.000000  ...  0.0  0.0  0.0  0.0  0.0  0.0  0.0  0.0   \n",
            "1  0.035591  0.000000  0.000000  ...  0.0  0.0  0.0  0.0  0.0  0.0  0.0  0.0   \n",
            "2  0.011588  0.035591  0.000000  ...  0.0  0.0  0.0  0.0  0.0  0.0  0.0  0.0   \n",
            "3 -0.016261  0.011588  0.035591  ...  0.0  0.0  0.0  0.0  0.0  0.0  0.0  0.0   \n",
            "4  0.065709 -0.016261  0.011588  ...  0.0  0.0  0.0  0.0  0.0  0.0  0.0  0.0   \n",
            "\n",
            "   pslowD  peakheight  \n",
            "0     0.0    0.000000  \n",
            "1     0.0    0.000000  \n",
            "2     0.0    0.605297  \n",
            "3     0.0    0.000000  \n",
            "4     0.0    0.000000  \n",
            "\n",
            "[5 rows x 40 columns]\n"
          ]
        }
      ],
      "source": [
        "peak_height_df = df.copy()\n",
        "\n",
        "peak_height_df['peakheight'] = 0.0\n",
        "\n",
        "last_trough = peak_height_df['Low'].iloc[0]\n",
        "\n",
        "for i in range(1, len(peak_height_df)-1):\n",
        "    if peak_height_df['Low'].iloc[i] < last_trough:\n",
        "        last_trough = peak_height_df['Low'].iloc[i]\n",
        "    if peak_height_df[\"High\"].iloc[i] > peak_height_df['High'].iloc[i-1] and peak_height_df['High'].iloc[i] > peak_height_df['High'].iloc[i+1]:\n",
        "        peak_height_df.loc[peak_height_df.index[i], 'peakheight'] = peak_height_df['High'].iloc[i] - last_trough\n",
        "        last_trough = peak_height_df['Low'].iloc[i]\n",
        "\n",
        "peak_height_folder = \"input_and_target_creation/BHP/peak_height\"\n",
        "os.makedirs(peak_height_folder, exist_ok=True)\n",
        "\n",
        "peak_height_df.to_csv('input_and_target_creation/BHP/peak_height.csv', index=False) \n",
        "\n",
        "print(\"Peak Height CSV saved at:\", os.path.join(dbp_folder, \"peak_height.csv\"))\n",
        "print(peak_height_df.head(5))"
      ]
    },
    {
      "cell_type": "code",
      "execution_count": 23,
      "metadata": {},
      "outputs": [
        {
          "name": "stdout",
          "output_type": "stream",
          "text": [
            "Return CSV saved at: input_and_target_creation/BHP/directional_break_point/return.csv\n",
            "        Date       Open       High        Low      Close    Volume  Adjusted  \\\n",
            "0 2000-01-03  12.862573  12.862573  12.529660  12.529660   57616.0  5.006402   \n",
            "1 2000-01-04  13.104692  13.104692  12.892838  12.983633   94582.0  5.187793   \n",
            "2 2000-01-05  12.953368  13.134957  12.832308  13.134957  198456.0  5.248257   \n",
            "3 2000-01-06  13.013898  13.074427  12.771779  12.923103   40889.0  5.163606   \n",
            "4 2000-01-07  13.316546  13.800784  13.316546  13.800784  247605.0  5.514297   \n",
            "\n",
            "         r1        r2        r3  ...  MFI  CCI  SMA  WMA  HMA  ADX  WPR   pk  \\\n",
            "0  0.000000  0.000000  0.000000  ...  0.0  0.0  0.0  0.0  0.0  0.0  0.0  0.0   \n",
            "1  0.035591  0.000000  0.000000  ...  0.0  0.0  0.0  0.0  0.0  0.0  0.0  0.0   \n",
            "2  0.011588  0.035591  0.000000  ...  0.0  0.0  0.0  0.0  0.0  0.0  0.0  0.0   \n",
            "3 -0.016261  0.011588  0.035591  ...  0.0  0.0  0.0  0.0  0.0  0.0  0.0  0.0   \n",
            "4  0.065709 -0.016261  0.011588  ...  0.0  0.0  0.0  0.0  0.0  0.0  0.0  0.0   \n",
            "\n",
            "   pslowD    Return  \n",
            "0     0.0       NaN  \n",
            "1     0.0  0.035591  \n",
            "2     0.0  0.011588  \n",
            "3     0.0 -0.016261  \n",
            "4     0.0  0.065709  \n",
            "\n",
            "[5 rows x 40 columns]\n"
          ]
        }
      ],
      "source": [
        "# df['Return'] = np.log(df['Close'] / df['Close'].shift(1))\n",
        "\n",
        "return_df = df.copy()\n",
        "return_df['Return'] = np.log(return_df['Close'] / return_df['Close'].shift(1))\n",
        "\n",
        "return_folder = \"input_and_target_creation/BHP/return\"\n",
        "os.makedirs(return_folder, exist_ok=True)\n",
        "\n",
        "return_df.to_csv('input_and_target_creation/BHP/return.csv', index=False) \n",
        "\n",
        "print(\"Return CSV saved at:\", os.path.join(dbp_folder, \"return.csv\"))\n",
        "print(return_df.head(5))"
      ]
    },
    {
      "cell_type": "code",
      "execution_count": 25,
      "metadata": {},
      "outputs": [
        {
          "name": "stdout",
          "output_type": "stream",
          "text": [
            "Trend CSV saved at: input_and_target_creation/BHP/directional_break_point/trend.csv\n",
            "        Date       Open       High        Low      Close    Volume  Adjusted  \\\n",
            "0 2000-01-03  12.862573  12.862573  12.529660  12.529660   57616.0  5.006402   \n",
            "1 2000-01-04  13.104692  13.104692  12.892838  12.983633   94582.0  5.187793   \n",
            "2 2000-01-05  12.953368  13.134957  12.832308  13.134957  198456.0  5.248257   \n",
            "3 2000-01-06  13.013898  13.074427  12.771779  12.923103   40889.0  5.163606   \n",
            "4 2000-01-07  13.316546  13.800784  13.316546  13.800784  247605.0  5.514297   \n",
            "\n",
            "         r1        r2        r3  ...  SMA  WMA  HMA  ADX  WPR   pk  pslowD  \\\n",
            "0  0.000000  0.000000  0.000000  ...  0.0  0.0  0.0  0.0  0.0  0.0     0.0   \n",
            "1  0.035591  0.000000  0.000000  ...  0.0  0.0  0.0  0.0  0.0  0.0     0.0   \n",
            "2  0.011588  0.035591  0.000000  ...  0.0  0.0  0.0  0.0  0.0  0.0     0.0   \n",
            "3 -0.016261  0.011588  0.035591  ...  0.0  0.0  0.0  0.0  0.0  0.0     0.0   \n",
            "4  0.065709 -0.016261  0.011588  ...  0.0  0.0  0.0  0.0  0.0  0.0     0.0   \n",
            "\n",
            "   SMA_20  SMA_50  Trend  \n",
            "0     NaN     NaN      0  \n",
            "1     NaN     NaN      0  \n",
            "2     NaN     NaN      0  \n",
            "3     NaN     NaN      0  \n",
            "4     NaN     NaN      0  \n",
            "\n",
            "[5 rows x 42 columns]\n"
          ]
        }
      ],
      "source": [
        "# df['Trend'] = np.where(df['SMA_20'] > df['SMA_50'], 1, 0) \n",
        "trend_df = df.copy()\n",
        "trend_df['SMA_20'] = trend_df['Close'].rolling(window=20).mean()\n",
        "trend_df['SMA_50'] = trend_df['Close'].rolling(window=50).mean()\n",
        "trend_df['Trend'] = np.where(trend_df['SMA_20'] > trend_df['SMA_50'], 1, 0)\n",
        "\n",
        "trend_folder = \"input_and_target_creation/BHP/trend\"    \n",
        "os.makedirs(trend_folder, exist_ok=True)\n",
        "\n",
        "trend_df.to_csv('input_and_target_creation/BHP/trend.csv', index=False)\n",
        "\n",
        "print(\"Trend CSV saved at:\", os.path.join(dbp_folder, \"trend.csv\"))\n",
        "print(trend_df.head(5))"
      ]
    },
    {
      "cell_type": "code",
      "execution_count": 26,
      "metadata": {},
      "outputs": [
        {
          "name": "stdout",
          "output_type": "stream",
          "text": [
            "Trough Detection CSV saved at: input_and_target_creation/BHP/directional_break_point/trough_detection.csv\n",
            "        Date       Open       High        Low      Close    Volume  Adjusted  \\\n",
            "0 2000-01-03  12.862573  12.862573  12.529660  12.529660   57616.0  5.006402   \n",
            "1 2000-01-04  13.104692  13.104692  12.892838  12.983633   94582.0  5.187793   \n",
            "2 2000-01-05  12.953368  13.134957  12.832308  13.134957  198456.0  5.248257   \n",
            "3 2000-01-06  13.013898  13.074427  12.771779  12.923103   40889.0  5.163606   \n",
            "4 2000-01-07  13.316546  13.800784  13.316546  13.800784  247605.0  5.514297   \n",
            "\n",
            "         r1        r2        r3  ...  MFI  CCI  SMA  WMA  HMA  ADX  WPR   pk  \\\n",
            "0  0.000000  0.000000  0.000000  ...  0.0  0.0  0.0  0.0  0.0  0.0  0.0  0.0   \n",
            "1  0.035591  0.000000  0.000000  ...  0.0  0.0  0.0  0.0  0.0  0.0  0.0  0.0   \n",
            "2  0.011588  0.035591  0.000000  ...  0.0  0.0  0.0  0.0  0.0  0.0  0.0  0.0   \n",
            "3 -0.016261  0.011588  0.035591  ...  0.0  0.0  0.0  0.0  0.0  0.0  0.0  0.0   \n",
            "4  0.065709 -0.016261  0.011588  ...  0.0  0.0  0.0  0.0  0.0  0.0  0.0  0.0   \n",
            "\n",
            "   pslowD  trough  \n",
            "0     0.0       1  \n",
            "1     0.0       0  \n",
            "2     0.0       0  \n",
            "3     0.0       1  \n",
            "4     0.0       0  \n",
            "\n",
            "[5 rows x 40 columns]\n"
          ]
        }
      ],
      "source": [
        "trough_detection_df = df.copy()\n",
        "from scipy.signal import argrelextrema\n",
        "trough_detection_df['trough'] = 0\n",
        "\n",
        "troughs = argrelextrema(trough_detection_df['Close'].values, np.less_equal, order=2)[0]\n",
        "\n",
        "trough_detection_df.loc[troughs, 'trough'] = 1\n",
        "\n",
        "trough_detection_folder = \"input_and_target_creation/BHP/trough_detection\"\n",
        "os.makedirs(trough_detection_folder, exist_ok=True)\n",
        "\n",
        "trough_detection_df.to_csv('input_and_target_creation/BHP/trough_detection.csv', index=False) \n",
        "\n",
        "print(\"Trough Detection CSV saved at:\", os.path.join(dbp_folder, \"trough_detection.csv\"))\n",
        "print(trough_detection_df.head(5))\n"
      ]
    },
    {
      "cell_type": "code",
      "execution_count": 27,
      "metadata": {},
      "outputs": [
        {
          "name": "stdout",
          "output_type": "stream",
          "text": [
            "Peak Detection CSV saved at: input_and_target_creation/BHP/directional_break_point/peak_detection.csv\n",
            "        Date       Open       High        Low      Close    Volume  Adjusted  \\\n",
            "0 2000-01-03  12.862573  12.862573  12.529660  12.529660   57616.0  5.006402   \n",
            "1 2000-01-04  13.104692  13.104692  12.892838  12.983633   94582.0  5.187793   \n",
            "2 2000-01-05  12.953368  13.134957  12.832308  13.134957  198456.0  5.248257   \n",
            "3 2000-01-06  13.013898  13.074427  12.771779  12.923103   40889.0  5.163606   \n",
            "4 2000-01-07  13.316546  13.800784  13.316546  13.800784  247605.0  5.514297   \n",
            "\n",
            "         r1        r2        r3  ...  MFI  CCI  SMA  WMA  HMA  ADX  WPR   pk  \\\n",
            "0  0.000000  0.000000  0.000000  ...  0.0  0.0  0.0  0.0  0.0  0.0  0.0  0.0   \n",
            "1  0.035591  0.000000  0.000000  ...  0.0  0.0  0.0  0.0  0.0  0.0  0.0  0.0   \n",
            "2  0.011588  0.035591  0.000000  ...  0.0  0.0  0.0  0.0  0.0  0.0  0.0  0.0   \n",
            "3 -0.016261  0.011588  0.035591  ...  0.0  0.0  0.0  0.0  0.0  0.0  0.0  0.0   \n",
            "4  0.065709 -0.016261  0.011588  ...  0.0  0.0  0.0  0.0  0.0  0.0  0.0  0.0   \n",
            "\n",
            "   pslowD  peak  \n",
            "0     0.0     0  \n",
            "1     0.0     0  \n",
            "2     0.0     0  \n",
            "3     0.0     0  \n",
            "4     0.0     1  \n",
            "\n",
            "[5 rows x 40 columns]\n"
          ]
        }
      ],
      "source": [
        "peak_detection_df = df.copy()\n",
        "peak_detection_df['peak'] = 0\n",
        "\n",
        "peaks = argrelextrema(peak_detection_df['Close'].values, np.greater_equal, order=2)[0]\n",
        "\n",
        "peak_detection_df.loc[peaks, 'peak'] = 1\n",
        "\n",
        "peak_detection_folder = \"input_and_target_creation/BHP/peak_detection\"\n",
        "os.makedirs(peak_detection_folder, exist_ok=True)\n",
        "\n",
        "peak_detection_df.to_csv('input_and_target_creation/BHP/peak_detection.csv', index=False) \n",
        "\n",
        "print(\"Peak Detection CSV saved at:\", os.path.join(dbp_folder, \"peak_detection.csv\"))\n",
        "print(peak_detection_df.head(5))"
      ]
    },
    {
      "cell_type": "code",
      "execution_count": 28,
      "metadata": {},
      "outputs": [
        {
          "name": "stdout",
          "output_type": "stream",
          "text": [
            "Trough Depth CSV saved at: input_and_target_creation/BHP/directional_break_point/trough_depth.csv\n",
            "        Date       Open       High        Low      Close    Volume  Adjusted  \\\n",
            "0 2000-01-03  12.862573  12.862573  12.529660  12.529660   57616.0  5.006402   \n",
            "1 2000-01-04  13.104692  13.104692  12.892838  12.983633   94582.0  5.187793   \n",
            "2 2000-01-05  12.953368  13.134957  12.832308  13.134957  198456.0  5.248257   \n",
            "3 2000-01-06  13.013898  13.074427  12.771779  12.923103   40889.0  5.163606   \n",
            "4 2000-01-07  13.316546  13.800784  13.316546  13.800784  247605.0  5.514297   \n",
            "\n",
            "         r1        r2        r3  ...  SMA  WMA  HMA  ADX  WPR   pk  pslowD  \\\n",
            "0  0.000000  0.000000  0.000000  ...  0.0  0.0  0.0  0.0  0.0  0.0     0.0   \n",
            "1  0.035591  0.000000  0.000000  ...  0.0  0.0  0.0  0.0  0.0  0.0     0.0   \n",
            "2  0.011588  0.035591  0.000000  ...  0.0  0.0  0.0  0.0  0.0  0.0     0.0   \n",
            "3 -0.016261  0.011588  0.035591  ...  0.0  0.0  0.0  0.0  0.0  0.0     0.0   \n",
            "4  0.065709 -0.016261  0.011588  ...  0.0  0.0  0.0  0.0  0.0  0.0     0.0   \n",
            "\n",
            "   peak  trough_depth  trough  \n",
            "0     0           NaN       1  \n",
            "1     0           0.0       0  \n",
            "2     0           0.0       0  \n",
            "3     0           NaN       1  \n",
            "4     1           0.0       0  \n",
            "\n",
            "[5 rows x 42 columns]\n"
          ]
        }
      ],
      "source": [
        "#trough_depth\n",
        "\n",
        "trough_depth_df = df.copy()\n",
        "\n",
        "trough_depth_df['peak'] = 0\n",
        "peaks = argrelextrema(trough_depth_df['Close'].values, np.greater_equal, order=2)[0]\n",
        "trough_depth_df.loc[peaks, 'peak'] = 1\n",
        "\n",
        "trough_depth_df['trough_depth'] = 0\n",
        "\n",
        "trough_depth_df['trough'] = 0\n",
        "troughs = argrelextrema(trough_depth_df['Close'].values, np.less_equal, order=2)[0]\n",
        "trough_depth_df.loc[troughs, 'trough'] = 1\n",
        "\n",
        "for i in troughs:\n",
        "    prev_peak = trough_depth_df.loc[:i, 'Close'][trough_depth_df['peak'] == 1].max()\n",
        "    next_peak = trough_depth_df.loc[i:, 'Close'][trough_depth_df['peak'] == 1].min()\n",
        "    trough_depth_df.loc[i, 'trough_depth'] = max(prev_peak, next_peak) - trough_depth_df.loc[i, 'Close']\n",
        "\n",
        "\n",
        "trough_depth_folder = \"input_and_target_creation/BHP/trough_depth\"\n",
        "os.makedirs(trough_depth_folder, exist_ok=True)\n",
        "\n",
        "trough_depth_df.to_csv('input_and_target_creation/BHP/trough_depth.csv', index=False) \n",
        "\n",
        "print(\"Trough Depth CSV saved at:\", os.path.join(dbp_folder, \"trough_depth.csv\"))\n",
        "print(trough_depth_df.head(5))"
      ]
    },
    {
      "cell_type": "code",
      "execution_count": null,
      "metadata": {},
      "outputs": [],
      "source": []
    }
  ],
  "metadata": {
    "colab": {
      "provenance": []
    },
    "kernelspec": {
      "display_name": "base",
      "language": "python",
      "name": "python3"
    },
    "language_info": {
      "codemirror_mode": {
        "name": "ipython",
        "version": 3
      },
      "file_extension": ".py",
      "mimetype": "text/x-python",
      "name": "python",
      "nbconvert_exporter": "python",
      "pygments_lexer": "ipython3",
      "version": "3.11.5"
    }
  },
  "nbformat": 4,
  "nbformat_minor": 0
}
